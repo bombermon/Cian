{
 "cells": [
  {
   "cell_type": "code",
   "execution_count": 40,
   "metadata": {},
   "outputs": [
    {
     "name": "stdout",
     "output_type": "stream",
     "text": [
      "Processed data saved to ../data/processed/processed_raw_2025-05-12_21-11.csv\n",
      "Processed data saved to ../data/processed/processed_1_2025-04-17_20-03.csv\n",
      "Processed data saved to ../data/processed/processed_1_2025-05-12_19-47.csv\n",
      "Processed data saved to ../data/processed/processed_raw_2025-05-12_21-09.csv\n"
     ]
    }
   ],
   "source": [
    "import pandas as pd\n",
    "import os\n",
    "\n",
    "raw_dir = '../data/raw'\n",
    "processed_dir = '../data/processed'\n",
    "os.makedirs(processed_dir, exist_ok=True)\n",
    "\n",
    "for file in os.listdir(raw_dir):\n",
    "    if file.endswith('.csv'):\n",
    "        df = pd.read_csv(os.path.join(raw_dir, file))\n",
    "        df = df.dropna()\n",
    "\n",
    "        # Добавляем столбец 'url_id' с уникальными идентификаторами, если его нет\n",
    "        df['url_id'] = df.index\n",
    "\n",
    "        columns_to_drop = ['author', 'commissions', 'author_type', 'url', 'location', \n",
    "                           'house_number', 'street', 'residential_complex', 'ID', \n",
    "                           'price_per_month', 'comissions', 'accommodation_type', \n",
    "                           'deal_type', 'underground', 'residential_complex', 'district']\n",
    "        df = df.drop(columns=columns_to_drop, errors='ignore')\n",
    "\n",
    "        df = df.dropna(subset=['price', 'total_meters'])\n",
    "        df = df[(df['price'] > 100_000) & (df['price'] < 100_000_000)]\n",
    "        df = df[(df['total_meters'] > 10) & (df['total_meters'] < 100)]\n",
    "\n",
    "        processed_file = os.path.join(processed_dir, f\"processed_{file}\")\n",
    "        df.to_csv(processed_file, index=False)\n",
    "        print(f\"Processed data saved to {processed_file}\")\n",
    "\n",
    "df['url_id'] = df.index"
   ]
  },
  {
   "cell_type": "code",
   "execution_count": 33,
   "metadata": {},
   "outputs": [
    {
     "name": "stdout",
     "output_type": "stream",
     "text": [
      "Mean Squared Error: 284160017030807.69\n",
      "Model saved to ../models/linear_model.pkl\n"
     ]
    }
   ],
   "source": [
    "import pandas as pd\n",
    "from sklearn.model_selection import train_test_split\n",
    "from sklearn.linear_model import LinearRegression\n",
    "from sklearn.metrics import mean_squared_error\n",
    "import joblib\n",
    "import os\n",
    "\n",
    "\n",
    "processed_dir = '../data/processed'\n",
    "\n",
    "\n",
    "dataframes = [pd.read_csv(os.path.join(processed_dir, f)) for f in os.listdir(processed_dir) if f.endswith('.csv')]\n",
    "\n",
    "df = pd.concat(dataframes, ignore_index=True).fillna(False)\n",
    "\n",
    "if 'price' not in df.columns:\n",
    "    raise ValueError(\"Column 'price' is missing in the processed data.\")\n",
    "\n",
    "y = df['price']\n",
    "X = df.drop(columns=['price'])\n",
    "\n",
    "X = pd.get_dummies(X)\n",
    "\n",
    "X, y = X.align(y, join='inner', axis=0)\n",
    "\n",
    "X_train, X_test, y_train, y_test = train_test_split(X, y, test_size=0.2, random_state=42)\n",
    "\n",
    "model = LinearRegression()\n",
    "model.fit(X_train, y_train)\n",
    "\n",
    "y_pred = model.predict(X_test)\n",
    "mse = mean_squared_error(y_test, y_pred)\n",
    "print(f\"Mean Squared Error: {mse:.2f}\")\n",
    "\n",
    "model_path = '../models/linear_model.pkl'\n",
    "joblib.dump(model, model_path)\n",
    "print(f\"Model saved to {model_path}\")\n"
   ]
  },
  {
   "cell_type": "code",
   "execution_count": 41,
   "metadata": {},
   "outputs": [
    {
     "name": "stdout",
     "output_type": "stream",
     "text": [
      "{'name': 'Ховрино', 'distance': 15.823760672698684, 'dist_coef': 1}\n"
     ]
    }
   ],
   "source": [
    "from math import radians, cos, sin, asin\n",
    "\n",
    "\n",
    "def distance_haversine(point_1: tuple, point_2: tuple):\n",
    "    d_earth = 2.0 * 6372.8\n",
    "    lat1, long1 = tuple(radians(c) for c in point_1)\n",
    "    lat2, long2 = tuple(radians(c) for c in point_2)\n",
    "    d = sin((lat2 - lat1) / 2.0) ** 2.0 + cos(lat1) * cos(lat2) * sin(\n",
    "        (long2 - long1) / 2.0) ** 2.0\n",
    "    return d_earth * asin(d ** 0.5)\n",
    "\n",
    "\n",
    "def find_nearest(point_1: tuple, points: dict):\n",
    "    dists = {p: distance_haversine(point_1, points[p]) for p in points}\n",
    "    name, dist = min(dists.items(), key=lambda d: d[1])\n",
    "    return {'name': name, 'distance': dist,\n",
    "            'dist_coef': 3 if dist <= 1.0 else 2 if dist < 2.0 else 1}\n",
    "\n",
    "\n",
    "metro_points = {\n",
    "    'Новокосино': (55.745113, 37.864052),\n",
    "    'Перово': (55.75098, 37.78422),\n",
    "    'Ховрино': (55.8777, 37.4877),\n",
    "    }\n",
    "\n",
    "point_1 = (55.741298984107324, 37.415756143334846)\n",
    "print(find_nearest(point_1, metro_points))\n",
    "# {'name': 'Ховрино', 'distance': 15.823760672698684, 'dist_coef': 1}"
   ]
  }
 ],
 "metadata": {
  "kernelspec": {
   "display_name": "Python 3",
   "language": "python",
   "name": "python3"
  },
  "language_info": {
   "codemirror_mode": {
    "name": "ipython",
    "version": 3
   },
   "file_extension": ".py",
   "mimetype": "text/x-python",
   "name": "python",
   "nbconvert_exporter": "python",
   "pygments_lexer": "ipython3",
   "version": "3.9.0"
  }
 },
 "nbformat": 4,
 "nbformat_minor": 2
}
